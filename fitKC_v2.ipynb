{
 "cells": [
  {
   "cell_type": "code",
   "execution_count": null,
   "metadata": {},
   "outputs": [],
   "source": [
    "using LinearAlgebra\n",
    "using JuMP, Ipopt\n",
    "using Plots\n",
    "using BSON: @save @load"
   ]
  },
  {
   "cell_type": "code",
   "execution_count": null,
   "metadata": {},
   "outputs": [],
   "source": [
    "# load dataset\n",
    "@load \"vineQVF.bson\" Q V F\n",
    "numPins, numTimesteps = size(Q)"
   ]
  },
  {
   "cell_type": "code",
   "execution_count": null,
   "metadata": {},
   "outputs": [],
   "source": [
    "# set up for optimization\n",
    "A = [Q' V']\n",
    "A = kron(A,Matrix(I,numPins,numPins))\n",
    "numParams = 2*numPins^2\n",
    "\n",
    "y = vec(F)\n",
    "\n",
    "# weights matrix for regularization\n",
    "W = I"
   ]
  },
  {
   "cell_type": "code",
   "execution_count": null,
   "metadata": {},
   "outputs": [],
   "source": [
    "# solve optimization\n",
    "model = Model(optimizer_with_attributes(Ipopt.Optimizer, \"print_level\" => 0))\n",
    "set_silent(model)\n",
    "@variable(model, x[1:numParams])\n",
    "@objective(model, Min, (A*x-y)'*(A*x-y) + x'*W*x)\n",
    "JuMP.optimize!(model)\n",
    "\n",
    "# extract results\n",
    "params = JuMP.value.(x)\n",
    "KCmatrix = reshape(params, numPins, 2*numPins)"
   ]
  },
  {
   "cell_type": "code",
   "execution_count": null,
   "metadata": {},
   "outputs": [],
   "source": [
    "# show K\n",
    "K = KCmatrix[:, 1:numPins]\n",
    "heatmap(K)"
   ]
  },
  {
   "cell_type": "code",
   "execution_count": null,
   "metadata": {},
   "outputs": [],
   "source": [
    "# show C\n",
    "C = KCmatrix[:, numPins+1:end]\n",
    "heatmap(C)"
   ]
  },
  {
   "cell_type": "code",
   "execution_count": null,
   "metadata": {},
   "outputs": [],
   "source": [
    "# compute goodness of fit\n",
    "SSR = (A*params-y)'*(A*params-y)\n",
    "SST = norm(y .- mean(y))^2\n",
    "Rsq = 1.0 - SSR/SST"
   ]
  }
 ],
 "metadata": {
  "kernelspec": {
   "display_name": "Julia 1.4.2",
   "language": "julia",
   "name": "julia-1.4"
  },
  "language_info": {
   "file_extension": ".jl",
   "mimetype": "application/julia",
   "name": "julia",
   "version": "1.4.2"
  }
 },
 "nbformat": 4,
 "nbformat_minor": 4
}
